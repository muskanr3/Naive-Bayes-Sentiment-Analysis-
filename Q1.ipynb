{
  "cells": [
    {
      "cell_type": "markdown",
      "metadata": {
        "id": "blv6XBI5GxO9"
      },
      "source": [
        "# SMAI Assignment - 2\n",
        "\n",
        "## Question 1: Naive Bayes and Clustering\n",
        "\n",
        "### Part 1: Naive Bayes\n",
        "\n",
        "[Files](https://drive.google.com/drive/folders/1OUVrOMp2jSSBDJSqvEyXDFTrhiyZnqit?usp=sharing)\n",
        "\n",
        "You will be performing Sentiment Analysis on a product review dataset with reviews from customers and star rating belonging to four classes (1,2,4,5). You can use sklearn for this question. Your tasks are as follows:\n",
        "\n",
        "1.   Clean the text by removing punctations and preprocess them using techniques such as stop word removal, stemming etc. You can explore anything!\n",
        "1.  Create BoW features using the word counts. You can choose the words that form the features such that the performance is optimised. Use the train-test split provided in `train_test_index.pickle` and report any interesting observations based on metrics such as accurarcy, precision, recall and f1 score (You can use Classification report in sklearn).\n",
        "1. Repeat Task 2 with TfIdf features."
      ]
    },
    {
      "cell_type": "code",
      "execution_count": 1,
      "metadata": {},
      "outputs": [
        {
          "name": "stderr",
          "output_type": "stream",
          "text": [
            "/usr/lib/python3/dist-packages/scipy/__init__.py:146: UserWarning: A NumPy version >=1.17.3 and <1.25.0 is required for this version of SciPy (detected version 1.26.1\n",
            "  warnings.warn(f\"A NumPy version >={np_minversion} and <{np_maxversion}\"\n"
          ]
        }
      ],
      "source": [
        "import pickle\n",
        "import nltk"
      ]
    },
    {
      "cell_type": "code",
      "execution_count": 2,
      "metadata": {
        "id": "U0nNsliRUjqd"
      },
      "outputs": [],
      "source": [
        "with open('train_test_index.pickle', 'rb') as handle:\n",
        "    train_test_index_dict = pickle.load(handle)"
      ]
    },
    {
      "cell_type": "code",
      "execution_count": 3,
      "metadata": {
        "id": "86GXlinlUz8b"
      },
      "outputs": [
        {
          "data": {
            "text/plain": [
              "(26661, 3)"
            ]
          },
          "execution_count": 3,
          "metadata": {},
          "output_type": "execute_result"
        }
      ],
      "source": [
        "import pandas as pd\n",
        "\n",
        "data = pd.read_csv('product_reviews.csv')\n",
        "data.shape"
      ]
    },
    {
      "cell_type": "code",
      "execution_count": 4,
      "metadata": {},
      "outputs": [],
      "source": [
        "from nltk.corpus import stopwords\n",
        "from nltk.tokenize import word_tokenize\n",
        "from nltk.stem import PorterStemmer"
      ]
    },
    {
      "cell_type": "code",
      "execution_count": 5,
      "metadata": {},
      "outputs": [
        {
          "name": "stderr",
          "output_type": "stream",
          "text": [
            "[nltk_data] Downloading package stopwords to /home/muskan/nltk_data...\n",
            "[nltk_data]   Package stopwords is already up-to-date!\n",
            "[nltk_data] Downloading package punkt to /home/muskan/nltk_data...\n",
            "[nltk_data]   Package punkt is already up-to-date!\n"
          ]
        },
        {
          "data": {
            "text/plain": [
              "True"
            ]
          },
          "execution_count": 5,
          "metadata": {},
          "output_type": "execute_result"
        }
      ],
      "source": [
        "nltk.download('stopwords')\n",
        "nltk.download('punkt')"
      ]
    },
    {
      "cell_type": "markdown",
      "metadata": {},
      "source": [
        "### Cleaning the data"
      ]
    },
    {
      "cell_type": "code",
      "execution_count": 6,
      "metadata": {},
      "outputs": [],
      "source": [
        "# preprocessing text\n",
        "import string\n",
        "newText = []\n",
        "\n",
        "for review in data[\"text\"]:\n",
        "    cleanedReview = review.translate (str.maketrans ('', '', string.punctuation))\n",
        "\n",
        "    # removing stopwords\n",
        "    stop_words = set(stopwords.words('english'))\n",
        "    word_tokens = word_tokenize(cleanedReview)\n",
        "    cleanedText = [w for w in word_tokens if not w.lower() in stop_words]\n",
        "\n",
        "    # performing stemming\n",
        "    porter_stemmer = PorterStemmer()\n",
        "    stemmedText = [porter_stemmer.stem(w) for w in cleanedText]\n",
        "\n",
        "    # joining the list of words to form a string\n",
        "    preprocessed_text = ' '.join(stemmedText)\n",
        "\n",
        "    newText.append(preprocessed_text)\n",
        "\n",
        "data[\"cleanedText\"] = newText\n",
        "    \n"
      ]
    },
    {
      "cell_type": "code",
      "execution_count": 7,
      "metadata": {},
      "outputs": [],
      "source": [
        "from sklearn.feature_extraction.text import CountVectorizer\n",
        "from sklearn.metrics import classification_report\n"
      ]
    },
    {
      "cell_type": "code",
      "execution_count": 8,
      "metadata": {},
      "outputs": [
        {
          "name": "stdout",
          "output_type": "stream",
          "text": [
            "       aaa  aaaaaaamaaaaaz  aaaand  aagent  aaliyah  aamco  aaron  aaronwa  \\\n",
            "0        0               0       0       0        0      0      0        0   \n",
            "1        0               0       0       0        0      0      0        0   \n",
            "2        0               0       0       0        0      0      0        0   \n",
            "3        0               0       0       0        0      0      0        0   \n",
            "4        0               0       0       0        0      0      0        0   \n",
            "...    ...             ...     ...     ...      ...    ...    ...      ...   \n",
            "26656    0               0       0       0        0      0      0        0   \n",
            "26657    0               0       0       0        0      0      0        0   \n",
            "26658    0               0       0       0        0      0      0        0   \n",
            "26659    0               0       0       0        0      0      0        0   \n",
            "26660    0               0       0       0        0      0      0        0   \n",
            "\n",
            "       ab  abandon  ...  zucchini  zum  zumal  zuman  zumba  zuni  zupa  \\\n",
            "0       0        0  ...         0    0      0      0      0     0     0   \n",
            "1       0        0  ...         0    0      0      0      0     0     0   \n",
            "2       0        0  ...         0    0      0      0      0     0     0   \n",
            "3       0        0  ...         0    0      0      0      0     0     0   \n",
            "4       0        0  ...         0    0      0      0      0     0     0   \n",
            "...    ..      ...  ...       ...  ...    ...    ...    ...   ...   ...   \n",
            "26656   0        0  ...         0    0      0      0      0     0     0   \n",
            "26657   0        0  ...         0    0      0      0      0     0     0   \n",
            "26658   0        0  ...         0    0      0      0      0     0     0   \n",
            "26659   0        0  ...         0    0      0      0      0     0     0   \n",
            "26660   0        0  ...         0    0      0      0      0     0     0   \n",
            "\n",
            "       zuppa  zy  zzz  \n",
            "0          0   0    0  \n",
            "1          0   0    0  \n",
            "2          0   0    0  \n",
            "3          0   0    0  \n",
            "4          0   0    0  \n",
            "...      ...  ..  ...  \n",
            "26656      0   0    0  \n",
            "26657      0   0    0  \n",
            "26658      0   0    0  \n",
            "26659      0   0    0  \n",
            "26660      0   0    0  \n",
            "\n",
            "[26661 rows x 23437 columns]\n"
          ]
        }
      ],
      "source": [
        "text = newText\n",
        "countVect = CountVectorizer(token_pattern=r'\\b[a-zA-Z]+\\b')\n",
        "countMatrix = countVect.fit_transform(text)\n",
        "count_array = countMatrix.toarray()\n",
        "df = pd.DataFrame(data=count_array,columns = countVect.get_feature_names_out())\n",
        "print(df)"
      ]
    },
    {
      "cell_type": "markdown",
      "metadata": {},
      "source": [
        "### Splitting the Data"
      ]
    },
    {
      "cell_type": "code",
      "execution_count": 9,
      "metadata": {},
      "outputs": [],
      "source": [
        "xtrain = data.loc[train_test_index_dict[\"train_index\"], \"cleanedText\"]\n",
        "xtest = data.loc[train_test_index_dict[\"test_index\"], \"cleanedText\"]\n",
        "ytrain = data.loc[train_test_index_dict[\"train_index\"], \"stars\"]\n",
        "ytest = data.loc[train_test_index_dict[\"test_index\"], \"stars\"]\n"
      ]
    },
    {
      "cell_type": "code",
      "execution_count": 10,
      "metadata": {},
      "outputs": [
        {
          "name": "stdout",
          "output_type": "stream",
          "text": [
            "6914     5.0\n",
            "8332     5.0\n",
            "2791     4.0\n",
            "25106    5.0\n",
            "11135    4.0\n",
            "        ... \n",
            "22447    1.0\n",
            "26207    5.0\n",
            "8429     1.0\n",
            "20411    4.0\n",
            "15380    2.0\n",
            "Name: stars, Length: 17862, dtype: float64\n"
          ]
        }
      ],
      "source": [
        "print(ytrain)"
      ]
    },
    {
      "cell_type": "markdown",
      "metadata": {},
      "source": [
        "### Bag of Words Features"
      ]
    },
    {
      "cell_type": "code",
      "execution_count": 11,
      "metadata": {},
      "outputs": [
        {
          "name": "stdout",
          "output_type": "stream",
          "text": [
            "              precision    recall  f1-score   support\n",
            "\n",
            "         1.0       0.73      0.76      0.74      1149\n",
            "         2.0       0.47      0.10      0.16       587\n",
            "         4.0       0.47      0.51      0.49      1981\n",
            "         5.0       0.79      0.83      0.81      5082\n",
            "\n",
            "    accuracy                           0.70      8799\n",
            "   macro avg       0.62      0.55      0.55      8799\n",
            "weighted avg       0.69      0.70      0.69      8799\n",
            "\n"
          ]
        }
      ],
      "source": [
        "# making Bow model for train and test\n",
        "vect = CountVectorizer(token_pattern=r'\\b[a-zA-Z]+\\b')\n",
        "xtrainBow = vect.fit_transform(xtrain)\n",
        "xtestBow = vect.transform(xtest)\n",
        "\n",
        "# training the naive bayes model\n",
        "from sklearn.naive_bayes import MultinomialNB\n",
        "nbc = MultinomialNB()\n",
        "nbc.fit(xtrainBow, ytrain)\n",
        "\n",
        "ypred = nbc.predict(xtestBow)\n",
        "\n",
        "print(classification_report(ytest, ypred))"
      ]
    },
    {
      "cell_type": "markdown",
      "metadata": {},
      "source": [
        "### Using tf-idf features"
      ]
    },
    {
      "cell_type": "code",
      "execution_count": 12,
      "metadata": {},
      "outputs": [
        {
          "name": "stdout",
          "output_type": "stream",
          "text": [
            "              precision    recall  f1-score   support\n",
            "\n",
            "         1.0       0.91      0.25      0.40      1149\n",
            "         2.0       0.00      0.00      0.00       587\n",
            "         4.0       0.44      0.05      0.09      1981\n",
            "         5.0       0.61      0.99      0.76      5082\n",
            "\n",
            "    accuracy                           0.62      8799\n",
            "   macro avg       0.49      0.32      0.31      8799\n",
            "weighted avg       0.57      0.62      0.51      8799\n",
            "\n"
          ]
        },
        {
          "name": "stderr",
          "output_type": "stream",
          "text": [
            "/home/muskan/.local/lib/python3.10/site-packages/sklearn/metrics/_classification.py:1471: UndefinedMetricWarning: Precision and F-score are ill-defined and being set to 0.0 in labels with no predicted samples. Use `zero_division` parameter to control this behavior.\n",
            "  _warn_prf(average, modifier, msg_start, len(result))\n",
            "/home/muskan/.local/lib/python3.10/site-packages/sklearn/metrics/_classification.py:1471: UndefinedMetricWarning: Precision and F-score are ill-defined and being set to 0.0 in labels with no predicted samples. Use `zero_division` parameter to control this behavior.\n",
            "  _warn_prf(average, modifier, msg_start, len(result))\n",
            "/home/muskan/.local/lib/python3.10/site-packages/sklearn/metrics/_classification.py:1471: UndefinedMetricWarning: Precision and F-score are ill-defined and being set to 0.0 in labels with no predicted samples. Use `zero_division` parameter to control this behavior.\n",
            "  _warn_prf(average, modifier, msg_start, len(result))\n"
          ]
        }
      ],
      "source": [
        "# making the model with tf-idf features\n",
        "from sklearn.feature_extraction.text import TfidfVectorizer\n",
        "tfidfVect = TfidfVectorizer(token_pattern=r'\\b[a-zA-Z]+\\b')\n",
        "xtrainTfidf = tfidfVect.fit_transform(xtrain)\n",
        "xtestTfidf = tfidfVect.transform(xtest)\n",
        "\n",
        "# performing naive bayes on tf-idf features\n",
        "nbcTfIdf = MultinomialNB()\n",
        "nbcTfIdf.fit(xtrainTfidf, ytrain)\n",
        "ypredict = nbcTfIdf.predict(xtestBow)\n",
        "\n",
        "print(classification_report(ytest, ypredict))"
      ]
    },
    {
      "cell_type": "markdown",
      "metadata": {},
      "source": [
        "### Report"
      ]
    },
    {
      "cell_type": "markdown",
      "metadata": {},
      "source": [
        "The accuracy of the bag of words approach is 70%, while for TF-IDF, it drops to 62%.\n",
        "This indicates that the bag of words approach performs better overall in terms of correctly predicting the classes. We also notice that bag of words generally exhibits higher recall across classes compared to TF-IDF. \n",
        "From the above metrics we can see that class 2.0 suffers from low support, indicating class imbalance issues affecting classification performance.\n",
        "TF-IDF struggles with precision and recall for class 2.0, indicating classification difficulties. Even though bag of words has low metrics for class 2 it still performs better than TF-IDF comparatively. \n",
        "\n",
        "The overall weighted averages and macro from precision, F1-score and recall are lower in TF-IDF. This shows that overall TF-IDF performs worse than BoW across all classes and thus BoW is more effective for classifying documents than TF-IDF. "
      ]
    },
    {
      "cell_type": "markdown",
      "metadata": {
        "id": "T8GYzpkuUcs6"
      },
      "source": [
        "### Part 2: Clustering\n",
        "\n",
        "You will be performing kmeans clustering on the same product reviews dataset from Part 1. In this question, instead of statistically computing features, you will use the embeddings obtained from a neural sentiment analysis model (huggingface: siebert/sentiment-roberta-large-english).\n",
        "\n",
        "You can use sklearn for this question. Your tasks are as follows:\n",
        "\n",
        "\n",
        "1. Perform kmeans clustering using sklearn. Try various values for number of clusters (k) and plot the elbow curve. For each value of k, plot WCSS (Within-Cluster Sum of Square). WCSS is the sum of the squared distance between each point and the centroid in a cluster.\n",
        "1. Perform task 1 with cluster initialisation methods [k-means++, forgy (\"random\" in sklearn)].\n",
        "1. In this case, since the ground truth labels (star rating) are available we can evaluate the clustering using metrics like purity, nmi and rand score. Implement these metrics from scratch and evaluate the clustering. [Reference](https://nlp.stanford.edu/IR-book/html/htmledition/evaluation-of-clustering-1.html)"
      ]
    },
    {
      "cell_type": "code",
      "execution_count": 13,
      "metadata": {
        "id": "5ddsz-nxGvfE"
      },
      "outputs": [
        {
          "name": "stdout",
          "output_type": "stream",
          "text": [
            "(26661, 1024)\n"
          ]
        }
      ],
      "source": [
        "import gzip\n",
        "import numpy as np\n",
        "\n",
        "f = gzip.GzipFile('roberta_embeds.npy.gz', \"r\")\n",
        "embeds = np.load(f)\n",
        "print(embeds.shape)"
      ]
    },
    {
      "cell_type": "code",
      "execution_count": 14,
      "metadata": {},
      "outputs": [
        {
          "name": "stderr",
          "output_type": "stream",
          "text": [
            "/home/muskan/.local/lib/python3.10/site-packages/sklearn/cluster/_kmeans.py:1416: FutureWarning: The default value of `n_init` will change from 10 to 'auto' in 1.4. Set the value of `n_init` explicitly to suppress the warning\n",
            "  super()._check_params_vs_input(X, default_n_init=10)\n",
            "/home/muskan/.local/lib/python3.10/site-packages/sklearn/cluster/_kmeans.py:1416: FutureWarning: The default value of `n_init` will change from 10 to 'auto' in 1.4. Set the value of `n_init` explicitly to suppress the warning\n",
            "  super()._check_params_vs_input(X, default_n_init=10)\n",
            "/home/muskan/.local/lib/python3.10/site-packages/sklearn/cluster/_kmeans.py:1416: FutureWarning: The default value of `n_init` will change from 10 to 'auto' in 1.4. Set the value of `n_init` explicitly to suppress the warning\n",
            "  super()._check_params_vs_input(X, default_n_init=10)\n",
            "/home/muskan/.local/lib/python3.10/site-packages/sklearn/cluster/_kmeans.py:1416: FutureWarning: The default value of `n_init` will change from 10 to 'auto' in 1.4. Set the value of `n_init` explicitly to suppress the warning\n",
            "  super()._check_params_vs_input(X, default_n_init=10)\n",
            "/home/muskan/.local/lib/python3.10/site-packages/sklearn/cluster/_kmeans.py:1416: FutureWarning: The default value of `n_init` will change from 10 to 'auto' in 1.4. Set the value of `n_init` explicitly to suppress the warning\n",
            "  super()._check_params_vs_input(X, default_n_init=10)\n",
            "/home/muskan/.local/lib/python3.10/site-packages/sklearn/cluster/_kmeans.py:1416: FutureWarning: The default value of `n_init` will change from 10 to 'auto' in 1.4. Set the value of `n_init` explicitly to suppress the warning\n",
            "  super()._check_params_vs_input(X, default_n_init=10)\n",
            "/home/muskan/.local/lib/python3.10/site-packages/sklearn/cluster/_kmeans.py:1416: FutureWarning: The default value of `n_init` will change from 10 to 'auto' in 1.4. Set the value of `n_init` explicitly to suppress the warning\n",
            "  super()._check_params_vs_input(X, default_n_init=10)\n",
            "/home/muskan/.local/lib/python3.10/site-packages/sklearn/cluster/_kmeans.py:1416: FutureWarning: The default value of `n_init` will change from 10 to 'auto' in 1.4. Set the value of `n_init` explicitly to suppress the warning\n",
            "  super()._check_params_vs_input(X, default_n_init=10)\n"
          ]
        },
        {
          "data": {
            "image/png": "[encoded data removed]",
            "text/plain": [
              "<Figure size 640x480 with 1 Axes>"
            ]
          },
          "metadata": {},
          "output_type": "display_data"
        }
      ],
      "source": [
        "# performing k means clustering\n",
        "import matplotlib.pyplot as plt\n",
        "from sklearn.cluster import KMeans\n",
        "kvalsNormal = []\n",
        "wcssNormal = []\n",
        "for k in range(2, 10):\n",
        "    kmeans = KMeans(n_clusters=k, random_state=41).fit(embeds)\n",
        "    kvalsNormal.append(k)\n",
        "    wcssNormal.append(kmeans.inertia_)\n",
        "\n",
        "\n",
        "plt.title('Elbow Curve')\n",
        "plt.xlabel('Number of clusters')\n",
        "plt.ylabel('WCSS')\n",
        "plt.plot(kvalsNormal, wcssNormal)\n",
        "\n",
        "# calculation of purity score\n",
        "labels_true_normal = np.array(data.stars).astype(int) \n",
        "labels_pred_normal = kmeans.labels_"
      ]
    },
    {
      "cell_type": "markdown",
      "metadata": {},
      "source": [
        "### With different Kmeans Algorithms"
      ]
    },
    {
      "cell_type": "code",
      "execution_count": 15,
      "metadata": {},
      "outputs": [
        {
          "name": "stderr",
          "output_type": "stream",
          "text": [
            "/home/muskan/.local/lib/python3.10/site-packages/sklearn/cluster/_kmeans.py:1416: FutureWarning: The default value of `n_init` will change from 10 to 'auto' in 1.4. Set the value of `n_init` explicitly to suppress the warning\n",
            "  super()._check_params_vs_input(X, default_n_init=10)\n",
            "/home/muskan/.local/lib/python3.10/site-packages/sklearn/cluster/_kmeans.py:1416: FutureWarning: The default value of `n_init` will change from 10 to 'auto' in 1.4. Set the value of `n_init` explicitly to suppress the warning\n",
            "  super()._check_params_vs_input(X, default_n_init=10)\n",
            "/home/muskan/.local/lib/python3.10/site-packages/sklearn/cluster/_kmeans.py:1416: FutureWarning: The default value of `n_init` will change from 10 to 'auto' in 1.4. Set the value of `n_init` explicitly to suppress the warning\n",
            "  super()._check_params_vs_input(X, default_n_init=10)\n",
            "/home/muskan/.local/lib/python3.10/site-packages/sklearn/cluster/_kmeans.py:1416: FutureWarning: The default value of `n_init` will change from 10 to 'auto' in 1.4. Set the value of `n_init` explicitly to suppress the warning\n",
            "  super()._check_params_vs_input(X, default_n_init=10)\n",
            "/home/muskan/.local/lib/python3.10/site-packages/sklearn/cluster/_kmeans.py:1416: FutureWarning: The default value of `n_init` will change from 10 to 'auto' in 1.4. Set the value of `n_init` explicitly to suppress the warning\n",
            "  super()._check_params_vs_input(X, default_n_init=10)\n",
            "/home/muskan/.local/lib/python3.10/site-packages/sklearn/cluster/_kmeans.py:1416: FutureWarning: The default value of `n_init` will change from 10 to 'auto' in 1.4. Set the value of `n_init` explicitly to suppress the warning\n",
            "  super()._check_params_vs_input(X, default_n_init=10)\n",
            "/home/muskan/.local/lib/python3.10/site-packages/sklearn/cluster/_kmeans.py:1416: FutureWarning: The default value of `n_init` will change from 10 to 'auto' in 1.4. Set the value of `n_init` explicitly to suppress the warning\n",
            "  super()._check_params_vs_input(X, default_n_init=10)\n",
            "/home/muskan/.local/lib/python3.10/site-packages/sklearn/cluster/_kmeans.py:1416: FutureWarning: The default value of `n_init` will change from 10 to 'auto' in 1.4. Set the value of `n_init` explicitly to suppress the warning\n",
            "  super()._check_params_vs_input(X, default_n_init=10)\n"
          ]
        },
        {
          "data": {
            "image/png": "[encoded data removed]",
            "text/plain": [
              "<Figure size 640x480 with 1 Axes>"
            ]
          },
          "metadata": {},
          "output_type": "display_data"
        }
      ],
      "source": [
        "# with kmeans++ initialization\n",
        "kvalsPlus = []\n",
        "wcssPlus = []\n",
        "for k in range(2, 10):\n",
        "    kmeans = KMeans(n_clusters=k, random_state=41, init=\"k-means++\").fit(embeds)\n",
        "    kvalsPlus.append(k)\n",
        "    wcssPlus.append(kmeans.inertia_)\n",
        "\n",
        "plt.title('Elbow Curve')\n",
        "plt.xlabel('Number of clusters')\n",
        "plt.ylabel('WCSS')\n",
        "plt.plot(kvalsPlus, wcssPlus)\n",
        "\n",
        "labels_true_plus = np.array(data.stars).astype(int) \n",
        "labels_pred_plus = kmeans.labels_"
      ]
    },
    {
      "cell_type": "code",
      "execution_count": 16,
      "metadata": {},
      "outputs": [
        {
          "name": "stderr",
          "output_type": "stream",
          "text": [
            "/home/muskan/.local/lib/python3.10/site-packages/sklearn/cluster/_kmeans.py:1416: FutureWarning: The default value of `n_init` will change from 10 to 'auto' in 1.4. Set the value of `n_init` explicitly to suppress the warning\n",
            "  super()._check_params_vs_input(X, default_n_init=10)\n",
            "/home/muskan/.local/lib/python3.10/site-packages/sklearn/cluster/_kmeans.py:1416: FutureWarning: The default value of `n_init` will change from 10 to 'auto' in 1.4. Set the value of `n_init` explicitly to suppress the warning\n",
            "  super()._check_params_vs_input(X, default_n_init=10)\n",
            "/home/muskan/.local/lib/python3.10/site-packages/sklearn/cluster/_kmeans.py:1416: FutureWarning: The default value of `n_init` will change from 10 to 'auto' in 1.4. Set the value of `n_init` explicitly to suppress the warning\n",
            "  super()._check_params_vs_input(X, default_n_init=10)\n",
            "/home/muskan/.local/lib/python3.10/site-packages/sklearn/cluster/_kmeans.py:1416: FutureWarning: The default value of `n_init` will change from 10 to 'auto' in 1.4. Set the value of `n_init` explicitly to suppress the warning\n",
            "  super()._check_params_vs_input(X, default_n_init=10)\n",
            "/home/muskan/.local/lib/python3.10/site-packages/sklearn/cluster/_kmeans.py:1416: FutureWarning: The default value of `n_init` will change from 10 to 'auto' in 1.4. Set the value of `n_init` explicitly to suppress the warning\n",
            "  super()._check_params_vs_input(X, default_n_init=10)\n",
            "/home/muskan/.local/lib/python3.10/site-packages/sklearn/cluster/_kmeans.py:1416: FutureWarning: The default value of `n_init` will change from 10 to 'auto' in 1.4. Set the value of `n_init` explicitly to suppress the warning\n",
            "  super()._check_params_vs_input(X, default_n_init=10)\n",
            "/home/muskan/.local/lib/python3.10/site-packages/sklearn/cluster/_kmeans.py:1416: FutureWarning: The default value of `n_init` will change from 10 to 'auto' in 1.4. Set the value of `n_init` explicitly to suppress the warning\n",
            "  super()._check_params_vs_input(X, default_n_init=10)\n",
            "/home/muskan/.local/lib/python3.10/site-packages/sklearn/cluster/_kmeans.py:1416: FutureWarning: The default value of `n_init` will change from 10 to 'auto' in 1.4. Set the value of `n_init` explicitly to suppress the warning\n",
            "  super()._check_params_vs_input(X, default_n_init=10)\n"
          ]
        },
        {
          "data": {
            "image/png": "[encoded data removed]",
            "text/plain": [
              "<Figure size 640x480 with 1 Axes>"
            ]
          },
          "metadata": {},
          "output_type": "display_data"
        }
      ],
      "source": [
        "# with forgy initialization\n",
        "kvalsForgy = []\n",
        "wcssForgy = []\n",
        "for k in range(2, 10):\n",
        "    kmeans = KMeans(n_clusters=k, random_state=41, init=\"random\").fit(embeds)\n",
        "    kvalsForgy.append(k)\n",
        "    wcssForgy.append(kmeans.inertia_)\n",
        "\n",
        "plt.title('Elbow Curve')\n",
        "plt.xlabel('Number of clusters')\n",
        "plt.ylabel('WCSS')\n",
        "plt.plot(kvalsForgy, wcssForgy)\n",
        "\n",
        "labels_true_forgy = np.array(data.stars).astype(int) \n",
        "labels_pred_forgy = kmeans.labels_"
      ]
    },
    {
      "cell_type": "markdown",
      "metadata": {},
      "source": [
        "### Calculating purity"
      ]
    },
    {
      "cell_type": "code",
      "execution_count": 28,
      "metadata": {},
      "outputs": [
        {
          "name": "stderr",
          "output_type": "stream",
          "text": [
            "/home/muskan/.local/lib/python3.10/site-packages/sklearn/cluster/_kmeans.py:1416: FutureWarning: The default value of `n_init` will change from 10 to 'auto' in 1.4. Set the value of `n_init` explicitly to suppress the warning\n",
            "  super()._check_params_vs_input(X, default_n_init=10)\n",
            "/home/muskan/.local/lib/python3.10/site-packages/sklearn/cluster/_kmeans.py:1416: FutureWarning: The default value of `n_init` will change from 10 to 'auto' in 1.4. Set the value of `n_init` explicitly to suppress the warning\n",
            "  super()._check_params_vs_input(X, default_n_init=10)\n",
            "/home/muskan/.local/lib/python3.10/site-packages/sklearn/cluster/_kmeans.py:1416: FutureWarning: The default value of `n_init` will change from 10 to 'auto' in 1.4. Set the value of `n_init` explicitly to suppress the warning\n",
            "  super()._check_params_vs_input(X, default_n_init=10)\n"
          ]
        }
      ],
      "source": [
        "# calculating for k =5\n",
        "kmeans = KMeans(n_clusters=5, random_state=41).fit(embeds)\n",
        "labels_true = np.array(data.stars).astype(int)\n",
        "labels_pred_normal = kmeans.labels_\n",
        "\n",
        "kmeansPlus= KMeans(n_clusters=5, random_state=41, init=\"k-means++\").fit(embeds)\n",
        "labels_pred_plus = kmeansPlus.labels_\n",
        "\n",
        "kmeansForgy = KMeans(n_clusters=5, random_state=41, init=\"random\").fit(embeds)\n",
        "labels_pred_forgy = kmeansForgy.labels_"
      ]
    },
    {
      "cell_type": "code",
      "execution_count": 29,
      "metadata": {},
      "outputs": [
        {
          "name": "stdout",
          "output_type": "stream",
          "text": [
            "Purity score for kmeans normal = 0.711113611642474\n",
            "Purity score for kmeans++ = 0.711113611642474\n",
            "Purity score for forgy = 0.711113611642474\n"
          ]
        }
      ],
      "source": [
        "def purity_score(labels_true, labels_pred):\n",
        "    # iterate through all the clusters and find the majority class\n",
        "    majority_class = []\n",
        "    correctly_classified = 0\n",
        "\n",
        "    for cluster in range(5):\n",
        "        majority_class.append(np.argmax(np.bincount(labels_true[labels_pred == cluster])))\n",
        "\n",
        "        #  how many points in the cluster are of the majority class\n",
        "        correctly_classified += np.sum(labels_true[labels_pred == cluster] == majority_class[cluster])\n",
        "\n",
        "    purity = correctly_classified / len(labels_true)\n",
        "    return purity\n",
        "\n",
        "print(\"Purity score for kmeans normal =\", purity_score(labels_true_normal, labels_pred_normal))\n",
        "print(\"Purity score for kmeans++ =\", purity_score(labels_true_plus, labels_pred_plus))\n",
        "print(\"Purity score for forgy =\", purity_score(labels_true_forgy, labels_pred_forgy))"
      ]
    },
    {
      "cell_type": "markdown",
      "metadata": {},
      "source": [
        "### Calculating NMI"
      ]
    },
    {
      "cell_type": "code",
      "execution_count": 30,
      "metadata": {},
      "outputs": [
        {
          "name": "stdout",
          "output_type": "stream",
          "text": [
            "NMI score for kmeans normal = 0.46096858705826865\n",
            "NMI score for kmeans++ = 0.46096858705826865\n",
            "NMI score for forgy = 0.460975742080248\n"
          ]
        }
      ],
      "source": [
        "# nmi = 2 * I(Y, C) / (H(Y) + H(C))\n",
        "# nmi from scratch \n",
        "def nmi(y,c):\n",
        "    def entropy(y):\n",
        "        unique, counts = np.unique(y, return_counts=True)\n",
        "        probs = counts / len(y)\n",
        "        return -np.sum(probs * np.log2(probs))\n",
        "\n",
        "    # calculating mutual information\n",
        "    def mutual_info(y, c):\n",
        "        unique_y, counts_y = np.unique(y, return_counts=True)\n",
        "        unique_c, counts_c = np.unique(c, return_counts=True)\n",
        "        probs_y = counts_y / len(y)\n",
        "        probs_c = counts_c / len(c)\n",
        "        probs_joint = np.zeros((len(unique_y), len(unique_c)))\n",
        "\n",
        "        for i in range(len(y)):\n",
        "            y_index = np.where(unique_y == y[i])[0][0]  \n",
        "            c_index = np.where(unique_c == c[i])[0][0] \n",
        "            probs_joint[y_index, c_index] += 1\n",
        "\n",
        "        probs_joint /= len(y)\n",
        "\n",
        "        mi = 0\n",
        "        for i in range(len(unique_y)):\n",
        "            for j in range(len(unique_c)):\n",
        "                if probs_joint[i, j] != 0:\n",
        "                    mi += probs_joint[i, j] * np.log2(probs_joint[i, j] / (probs_y[i] * probs_c[j]))\n",
        "\n",
        "        return mi\n",
        "\n",
        "    # calculating nmi\n",
        "    return 2 * mutual_info(y, c) / (entropy(y) + entropy(c))\n",
        "\n",
        "print(\"NMI score for kmeans normal =\", nmi(labels_true_normal, labels_pred_normal))\n",
        "print(\"NMI score for kmeans++ =\", nmi(labels_true_plus, labels_pred_plus))\n",
        "print(\"NMI score for forgy =\", nmi(labels_true_forgy, labels_pred_forgy))\n"
      ]
    },
    {
      "cell_type": "markdown",
      "metadata": {},
      "source": [
        "### Calculating Rand Score"
      ]
    },
    {
      "cell_type": "code",
      "execution_count": 31,
      "metadata": {},
      "outputs": [
        {
          "name": "stdout",
          "output_type": "stream",
          "text": [
            "Rand index score for kmeans normal =  0.7252501462262156\n",
            "Rand index score for kmeans++ =  0.7252501462262156\n",
            "Rand index score for forgy =  0.7252501462262156\n"
          ]
        }
      ],
      "source": [
        "def rand_index(labels_true, labels_pred):\n",
        "    majority_class = []\n",
        "\n",
        "    for cluster in range(5):\n",
        "        majority_class.append(np.argmax(np.bincount(labels_true[labels_pred == cluster])))\n",
        "\n",
        "\n",
        "    true_positive = 0\n",
        "    true_negative = 0\n",
        "    total_pairs = len(labels_true) * (len(labels_true) - 1) // 2\n",
        "\n",
        "    for i in range(len(labels_true)):\n",
        "        for j in range(i + 1, len(labels_true)):\n",
        "            \n",
        "            if (labels_true[i] == labels_true[j]) and (majority_class[labels_pred[i]] == majority_class[labels_pred[j]]):\n",
        "                true_positive += 1\n",
        "            if (labels_true[i] != labels_true[j]) and (majority_class[labels_pred[i]] != majority_class[labels_pred[j]]):\n",
        "                true_negative += 1\n",
        "\n",
        "    rand_index = (true_positive + true_negative) / total_pairs\n",
        "\n",
        "    return rand_index\n",
        "\n",
        "print(\"Rand index score for kmeans normal = \", rand_index(labels_true_normal, labels_pred_normal))\n",
        "print(\"Rand index score for kmeans++ = \", rand_index(labels_true_plus, labels_pred_plus))\n",
        "print(\"Rand index score for forgy = \", rand_index(labels_true_forgy, labels_pred_forgy))"
      ]
    },
    {
      "cell_type": "markdown",
      "metadata": {},
      "source": [
        "### Clustering evaluation"
      ]
    },
    {
      "cell_type": "markdown",
      "metadata": {},
      "source": [
        "We see that from the above graphs that the elbow for the clustering occurs at around k = 4. When the elbow occurs at k = 4, it means that adding more clusters beyond this point doesn't make much improvement in how well the data is grouped together. It is the best k where the clusters capture most of the patterns in the data without unnecessary complexity. So, k = 4 seems like a reasonable choice for the number of clusters in this case."
      ]
    },
    {
      "cell_type": "markdown",
      "metadata": {},
      "source": [
        "The clustering findings for k = 5 utilising various initialization techniques (normal, kmeans++, and forgy) are consistent across all evaluation criteria (purity, NMI, and Rand index) based on the metrics provided. While the NMI and Rand index scores indicate moderate to high agreement between the clustering and true labels, the purity scores show that most of the data points inside each cluster belong to the same class."
      ]
    }
  ],
  "metadata": {
    "colab": {
      "provenance": []
    },
    "kernelspec": {
      "display_name": "Python 3",
      "name": "python3"
    },
    "language_info": {
      "codemirror_mode": {
        "name": "ipython",
        "version": 3
      },
      "file_extension": ".py",
      "mimetype": "text/x-python",
      "name": "python",
      "nbconvert_exporter": "python",
      "pygments_lexer": "ipython3",
      "version": "3.10.12"
    }
  },
  "nbformat": 4,
  "nbformat_minor": 0
}
